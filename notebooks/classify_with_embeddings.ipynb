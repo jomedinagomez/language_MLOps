{
 "cells": [
  {
   "cell_type": "code",
   "execution_count": 57,
   "metadata": {},
   "outputs": [],
   "source": [
    "import pandas as pd\n",
    "import numpy as np\n",
    "from ast import literal_eval\n",
    "import os\n",
    "from sklearn.ensemble import RandomForestClassifier\n",
    "from sklearn.model_selection import train_test_split\n",
    "from sklearn.metrics import classification_report, accuracy_score\n",
    "import os\n",
    "from openai import AzureOpenAI\n",
    "\n",
    "import openai\n",
    "from dotenv import load_dotenv \n",
    "\n",
    "from typing import Any, Optional, Union\n",
    "from tenacity import (\n",
    "    retry,\n",
    "    retry_if_exception_type,\n",
    "    stop_after_attempt,\n",
    "    wait_random_exponential,\n",
    ")"
   ]
  },
  {
   "cell_type": "code",
   "execution_count": 58,
   "metadata": {},
   "outputs": [],
   "source": [
    "from azure.identity import AzureCliCredential, ChainedTokenCredential, ManagedIdentityCredential, EnvironmentCredential\n",
    "\n",
    "# Define strategy which potential authentication methods should be tried to gain an access token\n",
    "credential = ChainedTokenCredential(ManagedIdentityCredential(), EnvironmentCredential(), AzureCliCredential())\n",
    "access_token = credential.get_token(\"https://cognitiveservices.azure.com/.default\")"
   ]
  },
  {
   "cell_type": "code",
   "execution_count": 59,
   "metadata": {},
   "outputs": [],
   "source": [
    "load_dotenv()  \n",
    "\n",
    "#openai.api_type = \"azure\"\n",
    "#openai.api_key = os.getenv(\"AZURE_OPENAI_API_KEY\")  \n",
    "openai.api_key = access_token.token\n",
    "\n",
    "openai.api_type = 'azure_ad'\n",
    "openai.api_base = os.getenv(\"AZURE_OPENAI_ENDPOINT\")  \n",
    "openai.api_version = os.getenv(\"AZURE_OPENAI_API_VERSION\") \n",
    "model: str = \"text-embedding-3-small\" "
   ]
  },
  {
   "cell_type": "code",
   "execution_count": 60,
   "metadata": {},
   "outputs": [],
   "source": [
    "train_df = pd.read_csv(\".data/Training.csv\")\n",
    "validation_df = pd.read_csv(\".data/Validation.csv\")"
   ]
  },
  {
   "cell_type": "code",
   "execution_count": 61,
   "metadata": {},
   "outputs": [
    {
     "data": {
      "text/html": [
       "<div>\n",
       "<style scoped>\n",
       "    .dataframe tbody tr th:only-of-type {\n",
       "        vertical-align: middle;\n",
       "    }\n",
       "\n",
       "    .dataframe tbody tr th {\n",
       "        vertical-align: top;\n",
       "    }\n",
       "\n",
       "    .dataframe thead th {\n",
       "        text-align: right;\n",
       "    }\n",
       "</style>\n",
       "<table border=\"1\" class=\"dataframe\">\n",
       "  <thead>\n",
       "    <tr style=\"text-align: right;\">\n",
       "      <th></th>\n",
       "      <th>Question</th>\n",
       "      <th>Topic</th>\n",
       "    </tr>\n",
       "  </thead>\n",
       "  <tbody>\n",
       "    <tr>\n",
       "      <th>0</th>\n",
       "      <td>What is escrow?</td>\n",
       "      <td>Servicing</td>\n",
       "    </tr>\n",
       "    <tr>\n",
       "      <th>1</th>\n",
       "      <td>Provide details about Forbearance loss mit ret...</td>\n",
       "      <td>Servicing</td>\n",
       "    </tr>\n",
       "    <tr>\n",
       "      <th>2</th>\n",
       "      <td>What all liquidation options offered for loss ...</td>\n",
       "      <td>Servicing</td>\n",
       "    </tr>\n",
       "    <tr>\n",
       "      <th>3</th>\n",
       "      <td>Do I need a Divorce Decree to evaluate loss mi...</td>\n",
       "      <td>Servicing</td>\n",
       "    </tr>\n",
       "    <tr>\n",
       "      <th>4</th>\n",
       "      <td>give me the guidelines for Transferring Calls ...</td>\n",
       "      <td>Servicing</td>\n",
       "    </tr>\n",
       "  </tbody>\n",
       "</table>\n",
       "</div>"
      ],
      "text/plain": [
       "                                            Question      Topic\n",
       "0                                    What is escrow?  Servicing\n",
       "1  Provide details about Forbearance loss mit ret...  Servicing\n",
       "2  What all liquidation options offered for loss ...  Servicing\n",
       "3  Do I need a Divorce Decree to evaluate loss mi...  Servicing\n",
       "4  give me the guidelines for Transferring Calls ...  Servicing"
      ]
     },
     "execution_count": 61,
     "metadata": {},
     "output_type": "execute_result"
    }
   ],
   "source": [
    "validation_df.head()"
   ]
  },
  {
   "cell_type": "code",
   "execution_count": 62,
   "metadata": {},
   "outputs": [],
   "source": [
    "client = AzureOpenAI(\n",
    "  api_key = os.getenv(\"AZURE_OPENAI_API_KEY\"),  \n",
    "  api_version = \"2024-02-01\",\n",
    "  azure_endpoint =os.getenv(\"AZURE_OPENAI_ENDPOINT\") \n",
    ")\n",
    "\n",
    "def get_embeddings(client, input_text, model_name):\n",
    "    response = client.embeddings.create(\n",
    "        input = input_text,\n",
    "        model= model_name  # model = \"deployment_name\".\n",
    "        )\n",
    "    return response.model_dump()['data'][0]['embedding']\n",
    "\n",
    "def process_dataframe(dataframe):\n",
    "    embedding_models = [\"text-embedding-ada-002\",\"text-embedding-3-small\", \"text-embedding-3-large\"]\n",
    "\n",
    "    for embedding_model in embedding_models:\n",
    "        dataframe[embedding_model] = dataframe['Question'].apply(lambda x: get_embeddings(client,x,embedding_model))\n",
    "    \n",
    "    return dataframe"
   ]
  },
  {
   "cell_type": "code",
   "execution_count": 63,
   "metadata": {},
   "outputs": [],
   "source": [
    "train_df = process_dataframe(train_df)\n",
    "validation_df = process_dataframe(validation_df)"
   ]
  },
  {
   "cell_type": "code",
   "execution_count": 64,
   "metadata": {},
   "outputs": [
    {
     "data": {
      "text/plain": [
       "list"
      ]
     },
     "execution_count": 64,
     "metadata": {},
     "output_type": "execute_result"
    }
   ],
   "source": [
    "type(train_df['text-embedding-3-small'][0])"
   ]
  },
  {
   "cell_type": "code",
   "execution_count": 79,
   "metadata": {},
   "outputs": [
    {
     "name": "stdout",
     "output_type": "stream",
     "text": [
      "               precision    recall  f1-score   support\n",
      "\n",
      "           HR       1.00      0.90      0.95        10\n",
      "           IT       0.91      1.00      0.95        10\n",
      "    Servicing       1.00      1.00      1.00        10\n",
      "ServicingData       1.00      1.00      1.00         9\n",
      "      Welcome       1.00      1.00      1.00         4\n",
      "\n",
      "     accuracy                           0.98        43\n",
      "    macro avg       0.98      0.98      0.98        43\n",
      " weighted avg       0.98      0.98      0.98        43\n",
      "\n"
     ]
    }
   ],
   "source": [
    "# train random forest classifier\n",
    "clf = RandomForestClassifier(n_estimators=1000, random_state=14)\n",
    "clf.fit(list(train_df['text-embedding-ada-002'].values), train_df['Topic'])\n",
    "preds = clf.predict(list(validation_df['text-embedding-ada-002'].values))\n",
    "probas = clf.predict_proba(list(validation_df['text-embedding-ada-002'].values))\n",
    "\n",
    "report = classification_report(validation_df['Topic'], preds)\n",
    "print(report)"
   ]
  },
  {
   "cell_type": "code",
   "execution_count": null,
   "metadata": {},
   "outputs": [],
   "source": []
  }
 ],
 "metadata": {
  "kernelspec": {
   "display_name": "env_openai1x",
   "language": "python",
   "name": "python3"
  },
  "language_info": {
   "codemirror_mode": {
    "name": "ipython",
    "version": 3
   },
   "file_extension": ".py",
   "mimetype": "text/x-python",
   "name": "python",
   "nbconvert_exporter": "python",
   "pygments_lexer": "ipython3",
   "version": "3.11.5"
  }
 },
 "nbformat": 4,
 "nbformat_minor": 2
}
